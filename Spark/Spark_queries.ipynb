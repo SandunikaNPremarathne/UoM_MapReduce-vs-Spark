{
 "cells": [
  {
   "cell_type": "code",
   "execution_count": 1,
   "id": "6cbd3b5d",
   "metadata": {},
   "outputs": [
    {
     "data": {
      "application/vnd.jupyter.widget-view+json": {
       "model_id": "7c0a439d56854bc0bf8023f4f3d586af",
       "version_major": 2,
       "version_minor": 0
      },
      "text/plain": [
       "VBox()"
      ]
     },
     "metadata": {},
     "output_type": "display_data"
    },
    {
     "name": "stdout",
     "output_type": "stream",
     "text": [
      "Starting Spark application\n"
     ]
    },
    {
     "data": {
      "text/html": [
       "<table>\n",
       "<tr><th>ID</th><th>YARN Application ID</th><th>Kind</th><th>State</th><th>Spark UI</th><th>Driver log</th><th>User</th><th>Current session?</th></tr><tr><td>1</td><td>application_1677992414918_0005</td><td>pyspark</td><td>idle</td><td><a target=\"_blank\" href=\"http://ip-172-31-62-87.ec2.internal:20888/proxy/application_1677992414918_0005/\" class=\"emr-proxy-link\" emr-resource=\"j-1FXLZUFH84JDJ\n",
       "\" application-id=\"application_1677992414918_0005\">Link</a></td><td><a target=\"_blank\" href=\"http://ip-172-31-48-89.ec2.internal:8042/node/containerlogs/container_1677992414918_0005_01_000001/livy\" >Link</a></td><td>None</td><td>✔</td></tr></table>"
      ],
      "text/plain": [
       "<IPython.core.display.HTML object>"
      ]
     },
     "metadata": {},
     "output_type": "display_data"
    },
    {
     "data": {
      "application/vnd.jupyter.widget-view+json": {
       "model_id": "",
       "version_major": 2,
       "version_minor": 0
      },
      "text/plain": [
       "FloatProgress(value=0.0, bar_style='info', description='Progress:', layout=Layout(height='25px', width='50%'),…"
      ]
     },
     "metadata": {},
     "output_type": "display_data"
    },
    {
     "name": "stdout",
     "output_type": "stream",
     "text": [
      "SparkSession available as 'spark'.\n"
     ]
    },
    {
     "data": {
      "application/vnd.jupyter.widget-view+json": {
       "model_id": "",
       "version_major": 2,
       "version_minor": 0
      },
      "text/plain": [
       "FloatProgress(value=0.0, bar_style='info', description='Progress:', layout=Layout(height='25px', width='50%'),…"
      ]
     },
     "metadata": {},
     "output_type": "display_data"
    }
   ],
   "source": [
    "import time\n",
    "from pyspark.sql.functions import sum"
   ]
  },
  {
   "cell_type": "code",
   "execution_count": 2,
   "id": "03752503",
   "metadata": {},
   "outputs": [
    {
     "data": {
      "application/vnd.jupyter.widget-view+json": {
       "model_id": "97360109409a4320801a3ff1b86e5248",
       "version_major": 2,
       "version_minor": 0
      },
      "text/plain": [
       "VBox()"
      ]
     },
     "metadata": {},
     "output_type": "display_data"
    },
    {
     "data": {
      "application/vnd.jupyter.widget-view+json": {
       "model_id": "",
       "version_major": 2,
       "version_minor": 0
      },
      "text/plain": [
       "FloatProgress(value=0.0, bar_style='info', description='Progress:', layout=Layout(height='25px', width='50%'),…"
      ]
     },
     "metadata": {},
     "output_type": "display_data"
    }
   ],
   "source": [
    "df = spark.read.csv(\"s3://data-loader-assignment-1/input/DelayedFlights-updated.csv\", header=True, inferSchema=True)"
   ]
  },
  {
   "cell_type": "code",
   "execution_count": 3,
   "id": "07fd2125",
   "metadata": {},
   "outputs": [
    {
     "data": {
      "application/vnd.jupyter.widget-view+json": {
       "model_id": "2fcfbdd8675d4921bebee24d5b0fde6f",
       "version_major": 2,
       "version_minor": 0
      },
      "text/plain": [
       "VBox()"
      ]
     },
     "metadata": {},
     "output_type": "display_data"
    },
    {
     "data": {
      "application/vnd.jupyter.widget-view+json": {
       "model_id": "",
       "version_major": 2,
       "version_minor": 0
      },
      "text/plain": [
       "FloatProgress(value=0.0, bar_style='info', description='Progress:', layout=Layout(height='25px', width='50%'),…"
      ]
     },
     "metadata": {},
     "output_type": "display_data"
    },
    {
     "name": "stdout",
     "output_type": "stream",
     "text": [
      "1000"
     ]
    }
   ],
   "source": [
    "df.count()"
   ]
  },
  {
   "cell_type": "code",
   "execution_count": 4,
   "id": "025005a5",
   "metadata": {},
   "outputs": [
    {
     "data": {
      "application/vnd.jupyter.widget-view+json": {
       "model_id": "a6b2a4897fc24f23964942056569a90d",
       "version_major": 2,
       "version_minor": 0
      },
      "text/plain": [
       "VBox()"
      ]
     },
     "metadata": {},
     "output_type": "display_data"
    },
    {
     "data": {
      "application/vnd.jupyter.widget-view+json": {
       "model_id": "",
       "version_major": 2,
       "version_minor": 0
      },
      "text/plain": [
       "FloatProgress(value=0.0, bar_style='info', description='Progress:', layout=Layout(height='25px', width='50%'),…"
      ]
     },
     "metadata": {},
     "output_type": "display_data"
    }
   ],
   "source": [
    "df.createOrReplaceTempView(\"AirDelay\")"
   ]
  },
  {
   "cell_type": "code",
   "execution_count": 5,
   "id": "d82ae8b8",
   "metadata": {},
   "outputs": [
    {
     "data": {
      "application/vnd.jupyter.widget-view+json": {
       "model_id": "b89bf76bb8f34fabacf76b54abc5d781",
       "version_major": 2,
       "version_minor": 0
      },
      "text/plain": [
       "VBox()"
      ]
     },
     "metadata": {},
     "output_type": "display_data"
    },
    {
     "data": {
      "application/vnd.jupyter.widget-view+json": {
       "model_id": "",
       "version_major": 2,
       "version_minor": 0
      },
      "text/plain": [
       "FloatProgress(value=0.0, bar_style='info', description='Progress:', layout=Layout(height='25px', width='50%'),…"
      ]
     },
     "metadata": {},
     "output_type": "display_data"
    }
   ],
   "source": [
    "start_time = time.time()"
   ]
  },
  {
   "cell_type": "code",
   "execution_count": 6,
   "id": "c16456ea",
   "metadata": {},
   "outputs": [
    {
     "data": {
      "application/vnd.jupyter.widget-view+json": {
       "model_id": "41ce34f956164ccfb6aabf4bfeecafe8",
       "version_major": 2,
       "version_minor": 0
      },
      "text/plain": [
       "VBox()"
      ]
     },
     "metadata": {},
     "output_type": "display_data"
    },
    {
     "data": {
      "application/vnd.jupyter.widget-view+json": {
       "model_id": "",
       "version_major": 2,
       "version_minor": 0
      },
      "text/plain": [
       "FloatProgress(value=0.0, bar_style='info', description='Progress:', layout=Layout(height='25px', width='50%'),…"
      ]
     },
     "metadata": {},
     "output_type": "display_data"
    },
    {
     "name": "stdout",
     "output_type": "stream",
     "text": [
      "+----+-----------------+-----------------+-------------+----------------------+------------------+\n",
      "|Year|sum(WeatherDelay)|sum(CarrierDelay)|sum(NASDelay)|sum(LateAircraftDelay)|sum(SecurityDelay)|\n",
      "+----+-----------------+-----------------+-------------+----------------------+------------------+\n",
      "|2003|              660|             1577|         1856|                  1986|                 0|\n",
      "|2007|              452|             1835|         4269|                  5726|                12|\n",
      "|2010|              240|             1992|         3568|                  4233|                 0|\n",
      "|2006|              384|             1540|          869|                  2295|                 0|\n",
      "|2004|              287|             2064|          493|                  1451|                 0|\n",
      "|2005|              267|             1436|          680|                  2332|                 0|\n",
      "|2009|               24|             1191|         1963|                  1819|                 0|\n",
      "|2008|              305|             1298|         1410|                  2069|                 0|\n",
      "+----+-----------------+-----------------+-------------+----------------------+------------------+"
     ]
    }
   ],
   "source": [
    "process_df = df.filter((df.Year >= 2003) & (df.Year <= 2010)).groupBy(\"Year\").agg(\n",
    "    {\"CarrierDelay\": \"sum\", \"NASDelay\": \"sum\", \"WeatherDelay\": \"sum\",\"LateAircraftDelay\": \"sum\", \"SecurityDelay\": \"sum\" }).show()"
   ]
  },
  {
   "cell_type": "code",
   "execution_count": 7,
   "id": "444b36ae",
   "metadata": {},
   "outputs": [
    {
     "data": {
      "application/vnd.jupyter.widget-view+json": {
       "model_id": "c5f410f499d64a2489bc5d545b6c9110",
       "version_major": 2,
       "version_minor": 0
      },
      "text/plain": [
       "VBox()"
      ]
     },
     "metadata": {},
     "output_type": "display_data"
    },
    {
     "data": {
      "application/vnd.jupyter.widget-view+json": {
       "model_id": "",
       "version_major": 2,
       "version_minor": 0
      },
      "text/plain": [
       "FloatProgress(value=0.0, bar_style='info', description='Progress:', layout=Layout(height='25px', width='50%'),…"
      ]
     },
     "metadata": {},
     "output_type": "display_data"
    }
   ],
   "source": [
    "end_time = time.time()"
   ]
  },
  {
   "cell_type": "code",
   "execution_count": 8,
   "id": "c2ec4579",
   "metadata": {},
   "outputs": [
    {
     "data": {
      "application/vnd.jupyter.widget-view+json": {
       "model_id": "0283de82b61c4f7586c12009d2e10da2",
       "version_major": 2,
       "version_minor": 0
      },
      "text/plain": [
       "VBox()"
      ]
     },
     "metadata": {},
     "output_type": "display_data"
    },
    {
     "data": {
      "application/vnd.jupyter.widget-view+json": {
       "model_id": "",
       "version_major": 2,
       "version_minor": 0
      },
      "text/plain": [
       "FloatProgress(value=0.0, bar_style='info', description='Progress:', layout=Layout(height='25px', width='50%'),…"
      ]
     },
     "metadata": {},
     "output_type": "display_data"
    },
    {
     "name": "stdout",
     "output_type": "stream",
     "text": [
      "Elapsed time: 12.87 seconds"
     ]
    }
   ],
   "source": [
    "elapsed_time = end_time - start_time\n",
    "print(f\"Elapsed time: {elapsed_time:.2f} seconds\")"
   ]
  },
  {
   "cell_type": "code",
   "execution_count": 9,
   "id": "acbb8c0a",
   "metadata": {},
   "outputs": [
    {
     "data": {
      "application/vnd.jupyter.widget-view+json": {
       "model_id": "890b0c3d6fe547f59ebc6b0a4ab4d73a",
       "version_major": 2,
       "version_minor": 0
      },
      "text/plain": [
       "VBox()"
      ]
     },
     "metadata": {},
     "output_type": "display_data"
    },
    {
     "data": {
      "application/vnd.jupyter.widget-view+json": {
       "model_id": "",
       "version_major": 2,
       "version_minor": 0
      },
      "text/plain": [
       "FloatProgress(value=0.0, bar_style='info', description='Progress:', layout=Layout(height='25px', width='50%'),…"
      ]
     },
     "metadata": {},
     "output_type": "display_data"
    },
    {
     "name": "stdout",
     "output_type": "stream",
     "text": [
      "+----+-----------------+\n",
      "|Year|sum(CarrierDelay)|\n",
      "+----+-----------------+\n",
      "|2003|             1577|\n",
      "|2007|             1835|\n",
      "|2010|             1992|\n",
      "|2006|             1540|\n",
      "|2004|             2064|\n",
      "|2005|             1436|\n",
      "|2009|             1191|\n",
      "|2008|             1298|\n",
      "+----+-----------------+"
     ]
    }
   ],
   "source": [
    "start_time = time.time()\n",
    "process_df = df.filter((df.Year >= 2003) & (df.Year <= 2010)).groupBy(\"Year\").sum(\"CarrierDelay\").show()\n",
    "end_time = time.time()"
   ]
  },
  {
   "cell_type": "code",
   "execution_count": 10,
   "id": "83b6647b",
   "metadata": {},
   "outputs": [
    {
     "data": {
      "application/vnd.jupyter.widget-view+json": {
       "model_id": "d0e571d6ff1e493f9379290831346ff2",
       "version_major": 2,
       "version_minor": 0
      },
      "text/plain": [
       "VBox()"
      ]
     },
     "metadata": {},
     "output_type": "display_data"
    },
    {
     "data": {
      "application/vnd.jupyter.widget-view+json": {
       "model_id": "",
       "version_major": 2,
       "version_minor": 0
      },
      "text/plain": [
       "FloatProgress(value=0.0, bar_style='info', description='Progress:', layout=Layout(height='25px', width='50%'),…"
      ]
     },
     "metadata": {},
     "output_type": "display_data"
    },
    {
     "name": "stdout",
     "output_type": "stream",
     "text": [
      "Elapsed time: 12.96 seconds"
     ]
    }
   ],
   "source": [
    "elapsed_time = end_time - start_time\n",
    "print(f\"Elapsed time: {elapsed_time:.2f} seconds\")"
   ]
  },
  {
   "cell_type": "code",
   "execution_count": 11,
   "id": "ca4b8e1f",
   "metadata": {},
   "outputs": [
    {
     "data": {
      "application/vnd.jupyter.widget-view+json": {
       "model_id": "91ef30ce365849e3b1b482f789006662",
       "version_major": 2,
       "version_minor": 0
      },
      "text/plain": [
       "VBox()"
      ]
     },
     "metadata": {},
     "output_type": "display_data"
    },
    {
     "data": {
      "application/vnd.jupyter.widget-view+json": {
       "model_id": "",
       "version_major": 2,
       "version_minor": 0
      },
      "text/plain": [
       "FloatProgress(value=0.0, bar_style='info', description='Progress:', layout=Layout(height='25px', width='50%'),…"
      ]
     },
     "metadata": {},
     "output_type": "display_data"
    },
    {
     "name": "stdout",
     "output_type": "stream",
     "text": [
      "+----+-----------------+\n",
      "|Year|sum(CarrierDelay)|\n",
      "+----+-----------------+\n",
      "|2003|             1577|\n",
      "|2007|             1835|\n",
      "|2010|             1992|\n",
      "|2006|             1540|\n",
      "|2004|             2064|\n",
      "|2005|             1436|\n",
      "|2009|             1191|\n",
      "|2008|             1298|\n",
      "+----+-----------------+\n",
      "\n",
      "Elapsed time: 13.22 seconds"
     ]
    }
   ],
   "source": [
    "start_time = time.time()\n",
    "process_df = df.filter((df.Year >= 2003) & (df.Year <= 2010)).groupBy(\"Year\").sum(\"CarrierDelay\").show()\n",
    "end_time = time.time()\n",
    "elapsed_time = end_time - start_time\n",
    "print(f\"Elapsed time: {elapsed_time:.2f} seconds\")"
   ]
  },
  {
   "cell_type": "code",
   "execution_count": 12,
   "id": "d6f4b7b2",
   "metadata": {},
   "outputs": [
    {
     "data": {
      "application/vnd.jupyter.widget-view+json": {
       "model_id": "9722ad6473944869a4b6b74f6c6f5f35",
       "version_major": 2,
       "version_minor": 0
      },
      "text/plain": [
       "VBox()"
      ]
     },
     "metadata": {},
     "output_type": "display_data"
    },
    {
     "data": {
      "application/vnd.jupyter.widget-view+json": {
       "model_id": "",
       "version_major": 2,
       "version_minor": 0
      },
      "text/plain": [
       "FloatProgress(value=0.0, bar_style='info', description='Progress:', layout=Layout(height='25px', width='50%'),…"
      ]
     },
     "metadata": {},
     "output_type": "display_data"
    },
    {
     "name": "stdout",
     "output_type": "stream",
     "text": [
      "+----+-----------------+\n",
      "|Year|sum(CarrierDelay)|\n",
      "+----+-----------------+\n",
      "|2003|             1577|\n",
      "|2007|             1835|\n",
      "|2010|             1992|\n",
      "|2006|             1540|\n",
      "|2004|             2064|\n",
      "|2005|             1436|\n",
      "|2009|             1191|\n",
      "|2008|             1298|\n",
      "+----+-----------------+\n",
      "\n",
      "Elapsed time: 0.96 seconds"
     ]
    }
   ],
   "source": [
    "start_time = time.time()\n",
    "process_df = df.filter((df.Year >= 2003) & (df.Year <= 2010)).groupBy(\"Year\").sum(\"CarrierDelay\").show()\n",
    "end_time = time.time()\n",
    "elapsed_time = end_time - start_time\n",
    "print(f\"Elapsed time: {elapsed_time:.2f} seconds\")"
   ]
  },
  {
   "cell_type": "code",
   "execution_count": 13,
   "id": "1a0c17be",
   "metadata": {},
   "outputs": [
    {
     "data": {
      "application/vnd.jupyter.widget-view+json": {
       "model_id": "ed4a46f7ddb346a59dd8336fbbb46017",
       "version_major": 2,
       "version_minor": 0
      },
      "text/plain": [
       "VBox()"
      ]
     },
     "metadata": {},
     "output_type": "display_data"
    },
    {
     "data": {
      "application/vnd.jupyter.widget-view+json": {
       "model_id": "",
       "version_major": 2,
       "version_minor": 0
      },
      "text/plain": [
       "FloatProgress(value=0.0, bar_style='info', description='Progress:', layout=Layout(height='25px', width='50%'),…"
      ]
     },
     "metadata": {},
     "output_type": "display_data"
    },
    {
     "name": "stdout",
     "output_type": "stream",
     "text": [
      "+----+-----------------+\n",
      "|Year|sum(CarrierDelay)|\n",
      "+----+-----------------+\n",
      "|2003|             1577|\n",
      "|2007|             1835|\n",
      "|2010|             1992|\n",
      "|2006|             1540|\n",
      "|2004|             2064|\n",
      "|2005|             1436|\n",
      "|2009|             1191|\n",
      "|2008|             1298|\n",
      "+----+-----------------+\n",
      "\n",
      "Elapsed time: 0.95 seconds"
     ]
    }
   ],
   "source": [
    "start_time = time.time()\n",
    "process_df = df.filter((df.Year >= 2003) & (df.Year <= 2010)).groupBy(\"Year\").sum(\"CarrierDelay\").show()\n",
    "end_time = time.time()\n",
    "elapsed_time = end_time - start_time\n",
    "print(f\"Elapsed time: {elapsed_time:.2f} seconds\")"
   ]
  },
  {
   "cell_type": "code",
   "execution_count": 14,
   "id": "3c013ac0",
   "metadata": {},
   "outputs": [
    {
     "data": {
      "application/vnd.jupyter.widget-view+json": {
       "model_id": "e041e2147bd14b77a44416ea951736ae",
       "version_major": 2,
       "version_minor": 0
      },
      "text/plain": [
       "VBox()"
      ]
     },
     "metadata": {},
     "output_type": "display_data"
    },
    {
     "data": {
      "application/vnd.jupyter.widget-view+json": {
       "model_id": "",
       "version_major": 2,
       "version_minor": 0
      },
      "text/plain": [
       "FloatProgress(value=0.0, bar_style='info', description='Progress:', layout=Layout(height='25px', width='50%'),…"
      ]
     },
     "metadata": {},
     "output_type": "display_data"
    },
    {
     "name": "stdout",
     "output_type": "stream",
     "text": [
      "+----+-----------------+\n",
      "|Year|sum(CarrierDelay)|\n",
      "+----+-----------------+\n",
      "|2003|             1577|\n",
      "|2007|             1835|\n",
      "|2010|             1992|\n",
      "|2006|             1540|\n",
      "|2004|             2064|\n",
      "|2005|             1436|\n",
      "|2009|             1191|\n",
      "|2008|             1298|\n",
      "+----+-----------------+\n",
      "\n",
      "Elapsed time: 0.85 seconds"
     ]
    }
   ],
   "source": [
    "start_time = time.time()\n",
    "process_df = df.filter((df.Year >= 2003) & (df.Year <= 2010)).groupBy(\"Year\").sum(\"CarrierDelay\").show()\n",
    "end_time = time.time()\n",
    "elapsed_time = end_time - start_time\n",
    "print(f\"Elapsed time: {elapsed_time:.2f} seconds\")"
   ]
  },
  {
   "cell_type": "code",
   "execution_count": 15,
   "id": "9a7912bc",
   "metadata": {},
   "outputs": [
    {
     "data": {
      "application/vnd.jupyter.widget-view+json": {
       "model_id": "7445b7be38724a099001ce2a9c3aeac4",
       "version_major": 2,
       "version_minor": 0
      },
      "text/plain": [
       "VBox()"
      ]
     },
     "metadata": {},
     "output_type": "display_data"
    },
    {
     "data": {
      "application/vnd.jupyter.widget-view+json": {
       "model_id": "",
       "version_major": 2,
       "version_minor": 0
      },
      "text/plain": [
       "FloatProgress(value=0.0, bar_style='info', description='Progress:', layout=Layout(height='25px', width='50%'),…"
      ]
     },
     "metadata": {},
     "output_type": "display_data"
    },
    {
     "name": "stdout",
     "output_type": "stream",
     "text": [
      "+----+-----------------+\n",
      "|Year|sum(CarrierDelay)|\n",
      "+----+-----------------+\n",
      "|2003|             1577|\n",
      "|2007|             1835|\n",
      "|2010|             1992|\n",
      "|2006|             1540|\n",
      "|2004|             2064|\n",
      "|2005|             1436|\n",
      "|2009|             1191|\n",
      "|2008|             1298|\n",
      "+----+-----------------+\n",
      "\n",
      "Elapsed time: 0.92 seconds"
     ]
    }
   ],
   "source": [
    "start_time = time.time()\n",
    "process_df = df.filter((df.Year >= 2003) & (df.Year <= 2010)).groupBy(\"Year\").sum(\"CarrierDelay\").show()\n",
    "end_time = time.time()\n",
    "elapsed_time = end_time - start_time\n",
    "print(f\"Elapsed time: {elapsed_time:.2f} seconds\")"
   ]
  },
  {
   "cell_type": "code",
   "execution_count": 17,
   "id": "250efd81",
   "metadata": {},
   "outputs": [
    {
     "data": {
      "application/vnd.jupyter.widget-view+json": {
       "model_id": "6581d1c56a794847a121a60751729649",
       "version_major": 2,
       "version_minor": 0
      },
      "text/plain": [
       "VBox()"
      ]
     },
     "metadata": {},
     "output_type": "display_data"
    },
    {
     "data": {
      "application/vnd.jupyter.widget-view+json": {
       "model_id": "",
       "version_major": 2,
       "version_minor": 0
      },
      "text/plain": [
       "FloatProgress(value=0.0, bar_style='info', description='Progress:', layout=Layout(height='25px', width='50%'),…"
      ]
     },
     "metadata": {},
     "output_type": "display_data"
    },
    {
     "name": "stdout",
     "output_type": "stream",
     "text": [
      "+----+-------------+\n",
      "|Year|sum(NASDelay)|\n",
      "+----+-------------+\n",
      "|2003|         1856|\n",
      "|2007|         4269|\n",
      "|2010|         3568|\n",
      "|2006|          869|\n",
      "|2004|          493|\n",
      "|2005|          680|\n",
      "|2009|         1963|\n",
      "|2008|         1410|\n",
      "+----+-------------+\n",
      "\n",
      "Elapsed time: 0.69 seconds"
     ]
    }
   ],
   "source": [
    "start_time = time.time()\n",
    "process_df = df.filter((df.Year >= 2003) & (df.Year <= 2010)).groupBy(\"Year\").sum(\"NASDelay\").show()\n",
    "end_time = time.time()\n",
    "elapsed_time = end_time - start_time\n",
    "print(f\"Elapsed time: {elapsed_time:.2f} seconds\")"
   ]
  },
  {
   "cell_type": "code",
   "execution_count": 18,
   "id": "b34bfdea",
   "metadata": {},
   "outputs": [
    {
     "data": {
      "application/vnd.jupyter.widget-view+json": {
       "model_id": "6d3d0ea66560478daf9a0a46adffbd91",
       "version_major": 2,
       "version_minor": 0
      },
      "text/plain": [
       "VBox()"
      ]
     },
     "metadata": {},
     "output_type": "display_data"
    },
    {
     "data": {
      "application/vnd.jupyter.widget-view+json": {
       "model_id": "",
       "version_major": 2,
       "version_minor": 0
      },
      "text/plain": [
       "FloatProgress(value=0.0, bar_style='info', description='Progress:', layout=Layout(height='25px', width='50%'),…"
      ]
     },
     "metadata": {},
     "output_type": "display_data"
    },
    {
     "name": "stdout",
     "output_type": "stream",
     "text": [
      "+----+-------------+\n",
      "|Year|sum(NASDelay)|\n",
      "+----+-------------+\n",
      "|2003|         1856|\n",
      "|2007|         4269|\n",
      "|2010|         3568|\n",
      "|2006|          869|\n",
      "|2004|          493|\n",
      "|2005|          680|\n",
      "|2009|         1963|\n",
      "|2008|         1410|\n",
      "+----+-------------+\n",
      "\n",
      "Elapsed time: 0.78 seconds"
     ]
    }
   ],
   "source": [
    "start_time = time.time()\n",
    "process_df = df.filter((df.Year >= 2003) & (df.Year <= 2010)).groupBy(\"Year\").sum(\"NASDelay\").show()\n",
    "end_time = time.time()\n",
    "elapsed_time = end_time - start_time\n",
    "print(f\"Elapsed time: {elapsed_time:.2f} seconds\")"
   ]
  },
  {
   "cell_type": "code",
   "execution_count": 19,
   "id": "95ed76e6",
   "metadata": {},
   "outputs": [
    {
     "data": {
      "application/vnd.jupyter.widget-view+json": {
       "model_id": "ff28250b1ad649daa42a798199f81613",
       "version_major": 2,
       "version_minor": 0
      },
      "text/plain": [
       "VBox()"
      ]
     },
     "metadata": {},
     "output_type": "display_data"
    },
    {
     "data": {
      "application/vnd.jupyter.widget-view+json": {
       "model_id": "",
       "version_major": 2,
       "version_minor": 0
      },
      "text/plain": [
       "FloatProgress(value=0.0, bar_style='info', description='Progress:', layout=Layout(height='25px', width='50%'),…"
      ]
     },
     "metadata": {},
     "output_type": "display_data"
    },
    {
     "name": "stdout",
     "output_type": "stream",
     "text": [
      "+----+-------------+\n",
      "|Year|sum(NASDelay)|\n",
      "+----+-------------+\n",
      "|2003|         1856|\n",
      "|2007|         4269|\n",
      "|2010|         3568|\n",
      "|2006|          869|\n",
      "|2004|          493|\n",
      "|2005|          680|\n",
      "|2009|         1963|\n",
      "|2008|         1410|\n",
      "+----+-------------+\n",
      "\n",
      "Elapsed time: 0.62 seconds"
     ]
    }
   ],
   "source": [
    "start_time = time.time()\n",
    "process_df = df.filter((df.Year >= 2003) & (df.Year <= 2010)).groupBy(\"Year\").sum(\"NASDelay\").show()\n",
    "end_time = time.time()\n",
    "elapsed_time = end_time - start_time\n",
    "print(f\"Elapsed time: {elapsed_time:.2f} seconds\")"
   ]
  },
  {
   "cell_type": "code",
   "execution_count": 20,
   "id": "afd5152f",
   "metadata": {},
   "outputs": [
    {
     "data": {
      "application/vnd.jupyter.widget-view+json": {
       "model_id": "df07cfd56cff477a8a80586570fd06f5",
       "version_major": 2,
       "version_minor": 0
      },
      "text/plain": [
       "VBox()"
      ]
     },
     "metadata": {},
     "output_type": "display_data"
    },
    {
     "data": {
      "application/vnd.jupyter.widget-view+json": {
       "model_id": "",
       "version_major": 2,
       "version_minor": 0
      },
      "text/plain": [
       "FloatProgress(value=0.0, bar_style='info', description='Progress:', layout=Layout(height='25px', width='50%'),…"
      ]
     },
     "metadata": {},
     "output_type": "display_data"
    },
    {
     "name": "stdout",
     "output_type": "stream",
     "text": [
      "+----+-------------+\n",
      "|Year|sum(NASDelay)|\n",
      "+----+-------------+\n",
      "|2003|         1856|\n",
      "|2007|         4269|\n",
      "|2010|         3568|\n",
      "|2006|          869|\n",
      "|2004|          493|\n",
      "|2005|          680|\n",
      "|2009|         1963|\n",
      "|2008|         1410|\n",
      "+----+-------------+\n",
      "\n",
      "Elapsed time: 0.75 seconds"
     ]
    }
   ],
   "source": [
    "start_time = time.time()\n",
    "process_df = df.filter((df.Year >= 2003) & (df.Year <= 2010)).groupBy(\"Year\").sum(\"NASDelay\").show()\n",
    "end_time = time.time()\n",
    "elapsed_time = end_time - start_time\n",
    "print(f\"Elapsed time: {elapsed_time:.2f} seconds\")"
   ]
  },
  {
   "cell_type": "code",
   "execution_count": 21,
   "id": "683d616e",
   "metadata": {},
   "outputs": [
    {
     "data": {
      "application/vnd.jupyter.widget-view+json": {
       "model_id": "7db197bae04d48b5b293d6bf02adb52f",
       "version_major": 2,
       "version_minor": 0
      },
      "text/plain": [
       "VBox()"
      ]
     },
     "metadata": {},
     "output_type": "display_data"
    },
    {
     "data": {
      "application/vnd.jupyter.widget-view+json": {
       "model_id": "",
       "version_major": 2,
       "version_minor": 0
      },
      "text/plain": [
       "FloatProgress(value=0.0, bar_style='info', description='Progress:', layout=Layout(height='25px', width='50%'),…"
      ]
     },
     "metadata": {},
     "output_type": "display_data"
    },
    {
     "name": "stdout",
     "output_type": "stream",
     "text": [
      "+----+-------------+\n",
      "|Year|sum(NASDelay)|\n",
      "+----+-------------+\n",
      "|2003|         1856|\n",
      "|2007|         4269|\n",
      "|2010|         3568|\n",
      "|2006|          869|\n",
      "|2004|          493|\n",
      "|2005|          680|\n",
      "|2009|         1963|\n",
      "|2008|         1410|\n",
      "+----+-------------+\n",
      "\n",
      "Elapsed time: 0.71 seconds"
     ]
    }
   ],
   "source": [
    "start_time = time.time()\n",
    "process_df = df.filter((df.Year >= 2003) & (df.Year <= 2010)).groupBy(\"Year\").sum(\"NASDelay\").show()\n",
    "end_time = time.time()\n",
    "elapsed_time = end_time - start_time\n",
    "print(f\"Elapsed time: {elapsed_time:.2f} seconds\")"
   ]
  },
  {
   "cell_type": "code",
   "execution_count": 22,
   "id": "0bda8c75",
   "metadata": {},
   "outputs": [
    {
     "data": {
      "application/vnd.jupyter.widget-view+json": {
       "model_id": "cef6808782234791a4601d3e5eb311f2",
       "version_major": 2,
       "version_minor": 0
      },
      "text/plain": [
       "VBox()"
      ]
     },
     "metadata": {},
     "output_type": "display_data"
    },
    {
     "data": {
      "application/vnd.jupyter.widget-view+json": {
       "model_id": "",
       "version_major": 2,
       "version_minor": 0
      },
      "text/plain": [
       "FloatProgress(value=0.0, bar_style='info', description='Progress:', layout=Layout(height='25px', width='50%'),…"
      ]
     },
     "metadata": {},
     "output_type": "display_data"
    },
    {
     "name": "stdout",
     "output_type": "stream",
     "text": [
      "+----+-----------------+\n",
      "|Year|sum(WeatherDelay)|\n",
      "+----+-----------------+\n",
      "|2003|              660|\n",
      "|2007|              452|\n",
      "|2010|              240|\n",
      "|2006|              384|\n",
      "|2004|              287|\n",
      "|2005|              267|\n",
      "|2009|               24|\n",
      "|2008|              305|\n",
      "+----+-----------------+\n",
      "\n",
      "Elapsed time: 12.38 seconds"
     ]
    }
   ],
   "source": [
    "start_time = time.time()\n",
    "process_df = df.filter((df.Year >= 2003) & (df.Year <= 2010)).groupBy(\"Year\").sum(\"WeatherDelay\").show()\n",
    "end_time = time.time()\n",
    "elapsed_time = end_time - start_time\n",
    "print(f\"Elapsed time: {elapsed_time:.2f} seconds\")"
   ]
  },
  {
   "cell_type": "code",
   "execution_count": 23,
   "id": "7c0029a1",
   "metadata": {},
   "outputs": [
    {
     "data": {
      "application/vnd.jupyter.widget-view+json": {
       "model_id": "c20bcf94f01c425a890966ed8c210010",
       "version_major": 2,
       "version_minor": 0
      },
      "text/plain": [
       "VBox()"
      ]
     },
     "metadata": {},
     "output_type": "display_data"
    },
    {
     "data": {
      "application/vnd.jupyter.widget-view+json": {
       "model_id": "",
       "version_major": 2,
       "version_minor": 0
      },
      "text/plain": [
       "FloatProgress(value=0.0, bar_style='info', description='Progress:', layout=Layout(height='25px', width='50%'),…"
      ]
     },
     "metadata": {},
     "output_type": "display_data"
    },
    {
     "name": "stdout",
     "output_type": "stream",
     "text": [
      "+----+-----------------+\n",
      "|Year|sum(WeatherDelay)|\n",
      "+----+-----------------+\n",
      "|2003|              660|\n",
      "|2007|              452|\n",
      "|2010|              240|\n",
      "|2006|              384|\n",
      "|2004|              287|\n",
      "|2005|              267|\n",
      "|2009|               24|\n",
      "|2008|              305|\n",
      "+----+-----------------+\n",
      "\n",
      "Elapsed time: 0.87 seconds"
     ]
    }
   ],
   "source": [
    "start_time = time.time()\n",
    "process_df = df.filter((df.Year >= 2003) & (df.Year <= 2010)).groupBy(\"Year\").sum(\"WeatherDelay\").show()\n",
    "end_time = time.time()\n",
    "elapsed_time = end_time - start_time\n",
    "print(f\"Elapsed time: {elapsed_time:.2f} seconds\")"
   ]
  },
  {
   "cell_type": "code",
   "execution_count": 24,
   "id": "58e26275",
   "metadata": {},
   "outputs": [
    {
     "data": {
      "application/vnd.jupyter.widget-view+json": {
       "model_id": "4dfe89b57a3d403b8d1fbe5cf51ec789",
       "version_major": 2,
       "version_minor": 0
      },
      "text/plain": [
       "VBox()"
      ]
     },
     "metadata": {},
     "output_type": "display_data"
    },
    {
     "data": {
      "application/vnd.jupyter.widget-view+json": {
       "model_id": "",
       "version_major": 2,
       "version_minor": 0
      },
      "text/plain": [
       "FloatProgress(value=0.0, bar_style='info', description='Progress:', layout=Layout(height='25px', width='50%'),…"
      ]
     },
     "metadata": {},
     "output_type": "display_data"
    },
    {
     "name": "stdout",
     "output_type": "stream",
     "text": [
      "+----+-----------------+\n",
      "|Year|sum(WeatherDelay)|\n",
      "+----+-----------------+\n",
      "|2003|              660|\n",
      "|2007|              452|\n",
      "|2010|              240|\n",
      "|2006|              384|\n",
      "|2004|              287|\n",
      "|2005|              267|\n",
      "|2009|               24|\n",
      "|2008|              305|\n",
      "+----+-----------------+\n",
      "\n",
      "Elapsed time: 0.92 seconds"
     ]
    }
   ],
   "source": [
    "start_time = time.time()\n",
    "process_df = df.filter((df.Year >= 2003) & (df.Year <= 2010)).groupBy(\"Year\").sum(\"WeatherDelay\").show()\n",
    "end_time = time.time()\n",
    "elapsed_time = end_time - start_time\n",
    "print(f\"Elapsed time: {elapsed_time:.2f} seconds\")"
   ]
  },
  {
   "cell_type": "code",
   "execution_count": 25,
   "id": "98f6d075",
   "metadata": {},
   "outputs": [
    {
     "data": {
      "application/vnd.jupyter.widget-view+json": {
       "model_id": "fc8ba72c74e44ef0a3d1e2d0501346ff",
       "version_major": 2,
       "version_minor": 0
      },
      "text/plain": [
       "VBox()"
      ]
     },
     "metadata": {},
     "output_type": "display_data"
    },
    {
     "data": {
      "application/vnd.jupyter.widget-view+json": {
       "model_id": "",
       "version_major": 2,
       "version_minor": 0
      },
      "text/plain": [
       "FloatProgress(value=0.0, bar_style='info', description='Progress:', layout=Layout(height='25px', width='50%'),…"
      ]
     },
     "metadata": {},
     "output_type": "display_data"
    },
    {
     "name": "stdout",
     "output_type": "stream",
     "text": [
      "+----+-----------------+\n",
      "|Year|sum(WeatherDelay)|\n",
      "+----+-----------------+\n",
      "|2003|              660|\n",
      "|2007|              452|\n",
      "|2010|              240|\n",
      "|2006|              384|\n",
      "|2004|              287|\n",
      "|2005|              267|\n",
      "|2009|               24|\n",
      "|2008|              305|\n",
      "+----+-----------------+\n",
      "\n",
      "Elapsed time: 0.67 seconds"
     ]
    }
   ],
   "source": [
    "start_time = time.time()\n",
    "process_df = df.filter((df.Year >= 2003) & (df.Year <= 2010)).groupBy(\"Year\").sum(\"WeatherDelay\").show()\n",
    "end_time = time.time()\n",
    "elapsed_time = end_time - start_time\n",
    "print(f\"Elapsed time: {elapsed_time:.2f} seconds\")"
   ]
  },
  {
   "cell_type": "code",
   "execution_count": 26,
   "id": "6ccc8c74",
   "metadata": {},
   "outputs": [
    {
     "data": {
      "application/vnd.jupyter.widget-view+json": {
       "model_id": "c70b11bf048949c5873e04e2adea60af",
       "version_major": 2,
       "version_minor": 0
      },
      "text/plain": [
       "VBox()"
      ]
     },
     "metadata": {},
     "output_type": "display_data"
    },
    {
     "data": {
      "application/vnd.jupyter.widget-view+json": {
       "model_id": "",
       "version_major": 2,
       "version_minor": 0
      },
      "text/plain": [
       "FloatProgress(value=0.0, bar_style='info', description='Progress:', layout=Layout(height='25px', width='50%'),…"
      ]
     },
     "metadata": {},
     "output_type": "display_data"
    },
    {
     "name": "stdout",
     "output_type": "stream",
     "text": [
      "+----+-----------------+\n",
      "|Year|sum(WeatherDelay)|\n",
      "+----+-----------------+\n",
      "|2003|              660|\n",
      "|2007|              452|\n",
      "|2010|              240|\n",
      "|2006|              384|\n",
      "|2004|              287|\n",
      "|2005|              267|\n",
      "|2009|               24|\n",
      "|2008|              305|\n",
      "+----+-----------------+\n",
      "\n",
      "Elapsed time: 0.65 seconds"
     ]
    }
   ],
   "source": [
    "start_time = time.time()\n",
    "process_df = df.filter((df.Year >= 2003) & (df.Year <= 2010)).groupBy(\"Year\").sum(\"WeatherDelay\").show()\n",
    "end_time = time.time()\n",
    "elapsed_time = end_time - start_time\n",
    "print(f\"Elapsed time: {elapsed_time:.2f} seconds\")"
   ]
  },
  {
   "cell_type": "code",
   "execution_count": 27,
   "id": "e8c0f16a",
   "metadata": {},
   "outputs": [
    {
     "data": {
      "application/vnd.jupyter.widget-view+json": {
       "model_id": "999e52a9a03e4378bd9bf13c2668e28e",
       "version_major": 2,
       "version_minor": 0
      },
      "text/plain": [
       "VBox()"
      ]
     },
     "metadata": {},
     "output_type": "display_data"
    },
    {
     "data": {
      "application/vnd.jupyter.widget-view+json": {
       "model_id": "",
       "version_major": 2,
       "version_minor": 0
      },
      "text/plain": [
       "FloatProgress(value=0.0, bar_style='info', description='Progress:', layout=Layout(height='25px', width='50%'),…"
      ]
     },
     "metadata": {},
     "output_type": "display_data"
    },
    {
     "name": "stdout",
     "output_type": "stream",
     "text": [
      "+----+----------------------+\n",
      "|Year|sum(LateAircraftDelay)|\n",
      "+----+----------------------+\n",
      "|2003|                  1986|\n",
      "|2007|                  5726|\n",
      "|2010|                  4233|\n",
      "|2006|                  2295|\n",
      "|2004|                  1451|\n",
      "|2005|                  2332|\n",
      "|2009|                  1819|\n",
      "|2008|                  2069|\n",
      "+----+----------------------+\n",
      "\n",
      "Elapsed time: 0.73 seconds"
     ]
    }
   ],
   "source": [
    "start_time = time.time()\n",
    "process_df = df.filter((df.Year >= 2003) & (df.Year <= 2010)).groupBy(\"Year\").sum(\"LateAircraftDelay\").show()\n",
    "end_time = time.time()\n",
    "elapsed_time = end_time - start_time\n",
    "print(f\"Elapsed time: {elapsed_time:.2f} seconds\")"
   ]
  },
  {
   "cell_type": "code",
   "execution_count": 28,
   "id": "9b97f9ea",
   "metadata": {},
   "outputs": [
    {
     "data": {
      "application/vnd.jupyter.widget-view+json": {
       "model_id": "6fdf1cbb86fa43f7bb330be76a54a751",
       "version_major": 2,
       "version_minor": 0
      },
      "text/plain": [
       "VBox()"
      ]
     },
     "metadata": {},
     "output_type": "display_data"
    },
    {
     "data": {
      "application/vnd.jupyter.widget-view+json": {
       "model_id": "",
       "version_major": 2,
       "version_minor": 0
      },
      "text/plain": [
       "FloatProgress(value=0.0, bar_style='info', description='Progress:', layout=Layout(height='25px', width='50%'),…"
      ]
     },
     "metadata": {},
     "output_type": "display_data"
    },
    {
     "name": "stdout",
     "output_type": "stream",
     "text": [
      "+----+----------------------+\n",
      "|Year|sum(LateAircraftDelay)|\n",
      "+----+----------------------+\n",
      "|2003|                  1986|\n",
      "|2007|                  5726|\n",
      "|2010|                  4233|\n",
      "|2006|                  2295|\n",
      "|2004|                  1451|\n",
      "|2005|                  2332|\n",
      "|2009|                  1819|\n",
      "|2008|                  2069|\n",
      "+----+----------------------+\n",
      "\n",
      "Elapsed time: 0.88 seconds"
     ]
    }
   ],
   "source": [
    "start_time = time.time()\n",
    "process_df = df.filter((df.Year >= 2003) & (df.Year <= 2010)).groupBy(\"Year\").sum(\"LateAircraftDelay\").show()\n",
    "end_time = time.time()\n",
    "elapsed_time = end_time - start_time\n",
    "print(f\"Elapsed time: {elapsed_time:.2f} seconds\")"
   ]
  },
  {
   "cell_type": "code",
   "execution_count": 29,
   "id": "b9aca22f",
   "metadata": {},
   "outputs": [
    {
     "data": {
      "application/vnd.jupyter.widget-view+json": {
       "model_id": "4bfb2ec19be14b5fba55f7eb74e2c95b",
       "version_major": 2,
       "version_minor": 0
      },
      "text/plain": [
       "VBox()"
      ]
     },
     "metadata": {},
     "output_type": "display_data"
    },
    {
     "data": {
      "application/vnd.jupyter.widget-view+json": {
       "model_id": "",
       "version_major": 2,
       "version_minor": 0
      },
      "text/plain": [
       "FloatProgress(value=0.0, bar_style='info', description='Progress:', layout=Layout(height='25px', width='50%'),…"
      ]
     },
     "metadata": {},
     "output_type": "display_data"
    },
    {
     "name": "stdout",
     "output_type": "stream",
     "text": [
      "+----+----------------------+\n",
      "|Year|sum(LateAircraftDelay)|\n",
      "+----+----------------------+\n",
      "|2003|                  1986|\n",
      "|2007|                  5726|\n",
      "|2010|                  4233|\n",
      "|2006|                  2295|\n",
      "|2004|                  1451|\n",
      "|2005|                  2332|\n",
      "|2009|                  1819|\n",
      "|2008|                  2069|\n",
      "+----+----------------------+\n",
      "\n",
      "Elapsed time: 0.69 seconds"
     ]
    }
   ],
   "source": [
    "start_time = time.time()\n",
    "process_df = df.filter((df.Year >= 2003) & (df.Year <= 2010)).groupBy(\"Year\").sum(\"LateAircraftDelay\").show()\n",
    "end_time = time.time()\n",
    "elapsed_time = end_time - start_time\n",
    "print(f\"Elapsed time: {elapsed_time:.2f} seconds\")"
   ]
  },
  {
   "cell_type": "code",
   "execution_count": 30,
   "id": "db4c5399",
   "metadata": {},
   "outputs": [
    {
     "data": {
      "application/vnd.jupyter.widget-view+json": {
       "model_id": "cccf2b37f33742198a0f5f87bee40f5d",
       "version_major": 2,
       "version_minor": 0
      },
      "text/plain": [
       "VBox()"
      ]
     },
     "metadata": {},
     "output_type": "display_data"
    },
    {
     "data": {
      "application/vnd.jupyter.widget-view+json": {
       "model_id": "",
       "version_major": 2,
       "version_minor": 0
      },
      "text/plain": [
       "FloatProgress(value=0.0, bar_style='info', description='Progress:', layout=Layout(height='25px', width='50%'),…"
      ]
     },
     "metadata": {},
     "output_type": "display_data"
    },
    {
     "name": "stdout",
     "output_type": "stream",
     "text": [
      "+----+----------------------+\n",
      "|Year|sum(LateAircraftDelay)|\n",
      "+----+----------------------+\n",
      "|2003|                  1986|\n",
      "|2007|                  5726|\n",
      "|2010|                  4233|\n",
      "|2006|                  2295|\n",
      "|2004|                  1451|\n",
      "|2005|                  2332|\n",
      "|2009|                  1819|\n",
      "|2008|                  2069|\n",
      "+----+----------------------+\n",
      "\n",
      "Elapsed time: 0.56 seconds"
     ]
    }
   ],
   "source": [
    "start_time = time.time()\n",
    "process_df = df.filter((df.Year >= 2003) & (df.Year <= 2010)).groupBy(\"Year\").sum(\"LateAircraftDelay\").show()\n",
    "end_time = time.time()\n",
    "elapsed_time = end_time - start_time\n",
    "print(f\"Elapsed time: {elapsed_time:.2f} seconds\")"
   ]
  },
  {
   "cell_type": "code",
   "execution_count": 31,
   "id": "5507f8eb",
   "metadata": {},
   "outputs": [
    {
     "data": {
      "application/vnd.jupyter.widget-view+json": {
       "model_id": "26dc0c5f323847ed8739a4cf9919a118",
       "version_major": 2,
       "version_minor": 0
      },
      "text/plain": [
       "VBox()"
      ]
     },
     "metadata": {},
     "output_type": "display_data"
    },
    {
     "data": {
      "application/vnd.jupyter.widget-view+json": {
       "model_id": "",
       "version_major": 2,
       "version_minor": 0
      },
      "text/plain": [
       "FloatProgress(value=0.0, bar_style='info', description='Progress:', layout=Layout(height='25px', width='50%'),…"
      ]
     },
     "metadata": {},
     "output_type": "display_data"
    },
    {
     "name": "stdout",
     "output_type": "stream",
     "text": [
      "+----+----------------------+\n",
      "|Year|sum(LateAircraftDelay)|\n",
      "+----+----------------------+\n",
      "|2003|                  1986|\n",
      "|2007|                  5726|\n",
      "|2010|                  4233|\n",
      "|2006|                  2295|\n",
      "|2004|                  1451|\n",
      "|2005|                  2332|\n",
      "|2009|                  1819|\n",
      "|2008|                  2069|\n",
      "+----+----------------------+\n",
      "\n",
      "Elapsed time: 0.59 seconds"
     ]
    }
   ],
   "source": [
    "start_time = time.time()\n",
    "process_df = df.filter((df.Year >= 2003) & (df.Year <= 2010)).groupBy(\"Year\").sum(\"LateAircraftDelay\").show()\n",
    "end_time = time.time()\n",
    "elapsed_time = end_time - start_time\n",
    "print(f\"Elapsed time: {elapsed_time:.2f} seconds\")"
   ]
  },
  {
   "cell_type": "code",
   "execution_count": 32,
   "id": "be9a1857",
   "metadata": {},
   "outputs": [
    {
     "data": {
      "application/vnd.jupyter.widget-view+json": {
       "model_id": "444823918d094b61aa282d05ecd11f52",
       "version_major": 2,
       "version_minor": 0
      },
      "text/plain": [
       "VBox()"
      ]
     },
     "metadata": {},
     "output_type": "display_data"
    },
    {
     "data": {
      "application/vnd.jupyter.widget-view+json": {
       "model_id": "",
       "version_major": 2,
       "version_minor": 0
      },
      "text/plain": [
       "FloatProgress(value=0.0, bar_style='info', description='Progress:', layout=Layout(height='25px', width='50%'),…"
      ]
     },
     "metadata": {},
     "output_type": "display_data"
    },
    {
     "name": "stdout",
     "output_type": "stream",
     "text": [
      "+----+------------------+\n",
      "|Year|sum(SecurityDelay)|\n",
      "+----+------------------+\n",
      "|2003|                 0|\n",
      "|2007|                12|\n",
      "|2010|                 0|\n",
      "|2006|                 0|\n",
      "|2004|                 0|\n",
      "|2005|                 0|\n",
      "|2009|                 0|\n",
      "|2008|                 0|\n",
      "+----+------------------+\n",
      "\n",
      "Elapsed time: 0.51 seconds"
     ]
    }
   ],
   "source": [
    "start_time = time.time()\n",
    "process_df = df.filter((df.Year >= 2003) & (df.Year <= 2010)).groupBy(\"Year\").sum(\"SecurityDelay\").show()\n",
    "end_time = time.time()\n",
    "elapsed_time = end_time - start_time\n",
    "print(f\"Elapsed time: {elapsed_time:.2f} seconds\")"
   ]
  },
  {
   "cell_type": "code",
   "execution_count": 33,
   "id": "6b631e80",
   "metadata": {},
   "outputs": [
    {
     "data": {
      "application/vnd.jupyter.widget-view+json": {
       "model_id": "cd583a2e2a674b4cb7ecaa5fbeb5c6cd",
       "version_major": 2,
       "version_minor": 0
      },
      "text/plain": [
       "VBox()"
      ]
     },
     "metadata": {},
     "output_type": "display_data"
    },
    {
     "data": {
      "application/vnd.jupyter.widget-view+json": {
       "model_id": "",
       "version_major": 2,
       "version_minor": 0
      },
      "text/plain": [
       "FloatProgress(value=0.0, bar_style='info', description='Progress:', layout=Layout(height='25px', width='50%'),…"
      ]
     },
     "metadata": {},
     "output_type": "display_data"
    },
    {
     "name": "stdout",
     "output_type": "stream",
     "text": [
      "+----+------------------+\n",
      "|Year|sum(SecurityDelay)|\n",
      "+----+------------------+\n",
      "|2003|                 0|\n",
      "|2007|                12|\n",
      "|2010|                 0|\n",
      "|2006|                 0|\n",
      "|2004|                 0|\n",
      "|2005|                 0|\n",
      "|2009|                 0|\n",
      "|2008|                 0|\n",
      "+----+------------------+\n",
      "\n",
      "Elapsed time: 1.11 seconds"
     ]
    }
   ],
   "source": [
    "start_time = time.time()\n",
    "process_df = df.filter((df.Year >= 2003) & (df.Year <= 2010)).groupBy(\"Year\").sum(\"SecurityDelay\").show()\n",
    "end_time = time.time()\n",
    "elapsed_time = end_time - start_time\n",
    "print(f\"Elapsed time: {elapsed_time:.2f} seconds\")"
   ]
  },
  {
   "cell_type": "code",
   "execution_count": 34,
   "id": "28c51c8c",
   "metadata": {},
   "outputs": [
    {
     "data": {
      "application/vnd.jupyter.widget-view+json": {
       "model_id": "aa110649ba20405c9d3c6956701e64b5",
       "version_major": 2,
       "version_minor": 0
      },
      "text/plain": [
       "VBox()"
      ]
     },
     "metadata": {},
     "output_type": "display_data"
    },
    {
     "data": {
      "application/vnd.jupyter.widget-view+json": {
       "model_id": "",
       "version_major": 2,
       "version_minor": 0
      },
      "text/plain": [
       "FloatProgress(value=0.0, bar_style='info', description='Progress:', layout=Layout(height='25px', width='50%'),…"
      ]
     },
     "metadata": {},
     "output_type": "display_data"
    },
    {
     "name": "stdout",
     "output_type": "stream",
     "text": [
      "+----+------------------+\n",
      "|Year|sum(SecurityDelay)|\n",
      "+----+------------------+\n",
      "|2003|                 0|\n",
      "|2007|                12|\n",
      "|2010|                 0|\n",
      "|2006|                 0|\n",
      "|2004|                 0|\n",
      "|2005|                 0|\n",
      "|2009|                 0|\n",
      "|2008|                 0|\n",
      "+----+------------------+\n",
      "\n",
      "Elapsed time: 0.52 seconds"
     ]
    }
   ],
   "source": [
    "start_time = time.time()\n",
    "process_df = df.filter((df.Year >= 2003) & (df.Year <= 2010)).groupBy(\"Year\").sum(\"SecurityDelay\").show()\n",
    "end_time = time.time()\n",
    "elapsed_time = end_time - start_time\n",
    "print(f\"Elapsed time: {elapsed_time:.2f} seconds\")"
   ]
  },
  {
   "cell_type": "code",
   "execution_count": 35,
   "id": "8f8e4c6f",
   "metadata": {},
   "outputs": [
    {
     "data": {
      "application/vnd.jupyter.widget-view+json": {
       "model_id": "b08113e313674a03a6f09bbedb81b696",
       "version_major": 2,
       "version_minor": 0
      },
      "text/plain": [
       "VBox()"
      ]
     },
     "metadata": {},
     "output_type": "display_data"
    },
    {
     "data": {
      "application/vnd.jupyter.widget-view+json": {
       "model_id": "",
       "version_major": 2,
       "version_minor": 0
      },
      "text/plain": [
       "FloatProgress(value=0.0, bar_style='info', description='Progress:', layout=Layout(height='25px', width='50%'),…"
      ]
     },
     "metadata": {},
     "output_type": "display_data"
    },
    {
     "name": "stdout",
     "output_type": "stream",
     "text": [
      "+----+------------------+\n",
      "|Year|sum(SecurityDelay)|\n",
      "+----+------------------+\n",
      "|2003|                 0|\n",
      "|2007|                12|\n",
      "|2010|                 0|\n",
      "|2006|                 0|\n",
      "|2004|                 0|\n",
      "|2005|                 0|\n",
      "|2009|                 0|\n",
      "|2008|                 0|\n",
      "+----+------------------+\n",
      "\n",
      "Elapsed time: 0.48 seconds"
     ]
    }
   ],
   "source": [
    "start_time = time.time()\n",
    "process_df = df.filter((df.Year >= 2003) & (df.Year <= 2010)).groupBy(\"Year\").sum(\"SecurityDelay\").show()\n",
    "end_time = time.time()\n",
    "elapsed_time = end_time - start_time\n",
    "print(f\"Elapsed time: {elapsed_time:.2f} seconds\")"
   ]
  },
  {
   "cell_type": "code",
   "execution_count": 36,
   "id": "7f72af72",
   "metadata": {},
   "outputs": [
    {
     "data": {
      "application/vnd.jupyter.widget-view+json": {
       "model_id": "add5bce6f87c4a9c93302dd3fa544c1a",
       "version_major": 2,
       "version_minor": 0
      },
      "text/plain": [
       "VBox()"
      ]
     },
     "metadata": {},
     "output_type": "display_data"
    },
    {
     "data": {
      "application/vnd.jupyter.widget-view+json": {
       "model_id": "",
       "version_major": 2,
       "version_minor": 0
      },
      "text/plain": [
       "FloatProgress(value=0.0, bar_style='info', description='Progress:', layout=Layout(height='25px', width='50%'),…"
      ]
     },
     "metadata": {},
     "output_type": "display_data"
    },
    {
     "name": "stdout",
     "output_type": "stream",
     "text": [
      "+----+------------------+\n",
      "|Year|sum(SecurityDelay)|\n",
      "+----+------------------+\n",
      "|2003|                 0|\n",
      "|2007|                12|\n",
      "|2010|                 0|\n",
      "|2006|                 0|\n",
      "|2004|                 0|\n",
      "|2005|                 0|\n",
      "|2009|                 0|\n",
      "|2008|                 0|\n",
      "+----+------------------+\n",
      "\n",
      "Elapsed time: 0.58 seconds"
     ]
    }
   ],
   "source": [
    "start_time = time.time()\n",
    "process_df = df.filter((df.Year >= 2003) & (df.Year <= 2010)).groupBy(\"Year\").sum(\"SecurityDelay\").show()\n",
    "end_time = time.time()\n",
    "elapsed_time = end_time - start_time\n",
    "print(f\"Elapsed time: {elapsed_time:.2f} seconds\")"
   ]
  },
  {
   "cell_type": "code",
   "execution_count": null,
   "id": "7a1e9ed0",
   "metadata": {},
   "outputs": [],
   "source": []
  }
 ],
 "metadata": {
  "kernelspec": {
   "display_name": "PySpark",
   "language": "python",
   "name": "pysparkkernel"
  },
  "language_info": {
   "codemirror_mode": {
    "name": "python",
    "version": 3
   },
   "file_extension": ".py",
   "mimetype": "text/x-python",
   "name": "pyspark",
   "pygments_lexer": "python3"
  }
 },
 "nbformat": 4,
 "nbformat_minor": 5
}
